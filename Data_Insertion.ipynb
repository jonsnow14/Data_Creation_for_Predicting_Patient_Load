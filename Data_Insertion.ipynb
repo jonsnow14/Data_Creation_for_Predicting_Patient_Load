{
 "cells": [
  {
   "cell_type": "markdown",
   "metadata": {},
   "source": [
    "Insertion of Time Series Synthetic Data into PostgresDB"
   ]
  },
  {
   "cell_type": "code",
   "execution_count": null,
   "metadata": {},
   "outputs": [],
   "source": [
    "import os\n",
    "import psycopg2\n",
    "from dotenv import load_dotenv\n",
    "\n",
    "# Load environment variables\n",
    "load_dotenv()\n",
    "\n",
    "# Function to insert data into PostgreSQL\n",
    "def insert_data_to_db(df):\n",
    "    try:\n",
    "        connection = psycopg2.connect(\n",
    "            dbname=os.getenv(\"DB_NAME\"),\n",
    "            user=os.getenv(\"DB_USER\"),\n",
    "            password=os.getenv(\"DB_PASSWORD\"),\n",
    "            host=os.getenv(\"DB_HOST\"),\n",
    "            port=os.getenv(\"DB_PORT\")\n",
    "        )\n",
    "        cursor = connection.cursor()\n",
    "\n",
    "        insert_query = \"\"\"\n",
    "        INSERT INTO patient_data (Timestamp, Patient_Name, Sex, Age, Weight, BloodGroup)\n",
    "        VALUES (%s, %s, %s, %s, %s, %s)\n",
    "        \"\"\"\n",
    "        for _, row in df.iterrows():\n",
    "            cursor.execute(insert_query, (row['Timestamp'], row['Patient Name'], row['Sex'], row['Age'], row['Weight'], row['BloodGroup']))\n",
    "\n",
    "        connection.commit()\n",
    "    except Exception as e:\n",
    "        print(f\"Error inserting data: {e}\")\n",
    "    finally:\n",
    "        cursor.close()\n",
    "        connection.close()\n",
    "\n",
    "# Insert synthetic data into PostgreSQL\n",
    "insert_data_to_db(synthetic_data)\n"
   ]
  }
 ],
 "metadata": {
  "language_info": {
   "name": "python"
  }
 },
 "nbformat": 4,
 "nbformat_minor": 2
}
