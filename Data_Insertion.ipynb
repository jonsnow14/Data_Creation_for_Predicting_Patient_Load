{
 "cells": [
  {
   "cell_type": "markdown",
   "metadata": {},
   "source": [
    "Synthetic Data Generation: We created a synthetic dataset for patient visits.\n",
    "PostgreSQL Setup: We set up a PostgreSQL database and table.\n",
    "OpenAI Integration: We integrated a module to translate user queries into SQL and interact with the database."
   ]
  },
  {
   "cell_type": "markdown",
   "metadata": {},
   "source": [
    "Generate Synthetic Time Series Dataset\n",
    "synthetic dataset that simulates patient visits over a year, excluding weekends and public holidays."
   ]
  },
  {
   "cell_type": "code",
   "execution_count": null,
   "metadata": {},
   "outputs": [],
   "source": [
    "import pandas as pd\n",
    "import numpy as np\n",
    "from datetime import datetime, timedelta\n",
    "\n",
    "# Function to generate synthetic dataset\n",
    "def generate_synthetic_data(start_date, end_date):\n",
    "    # Generate all dates between start_date and end_date\n",
    "    all_dates = pd.date_range(start_date, end_date, freq='B')  # 'B' for business days\n",
    "    public_holidays = [\n",
    "        datetime(2023, 1, 1),  # New Year's Day\n",
    "        datetime(2023, 7, 4),  # Independence Day\n",
    "        datetime(2023, 12, 25),  # Christmas\n",
    "    ]\n",
    "    valid_dates = [date for date in all_dates if date not in public_holidays]\n",
    "\n",
    "    # Generate random patient data\n",
    "    np.random.seed(42)  # For reproducibility\n",
    "    data = {\n",
    "        'Timestamp': valid_dates,\n",
    "        'Patient Name': [f'Patient_{i}' for i in range(len(valid_dates))],\n",
    "        'Sex': np.random.choice(['Male', 'Female'], size=len(valid_dates)),\n",
    "        'Age': np.random.randint(1, 90, size=len(valid_dates)),\n",
    "        'Weight': np.random.randint(50, 100, size=len(valid_dates)),  # Weight in kg\n",
    "        'BloodGroup': np.random.choice(['A+', 'A-', 'B+', 'B-', 'O+', 'O-', 'AB+', 'AB-'], size=len(valid_dates))\n",
    "    }\n",
    "\n",
    "    return pd.DataFrame(data)\n",
    "\n",
    "# Generate data for the year 2023\n",
    "synthetic_data = generate_synthetic_data('2023-01-01', '2023-12-31')\n",
    "print(synthetic_data.head())\n"
   ]
  },
  {
   "cell_type": "markdown",
   "metadata": {},
   "source": [
    "Insertion of Time Series Synthetic Data into PostgresDB"
   ]
  },
  {
   "cell_type": "code",
   "execution_count": null,
   "metadata": {},
   "outputs": [],
   "source": [
    "import os\n",
    "import psycopg2\n",
    "from dotenv import load_dotenv\n",
    "\n",
    "# Load environment variables\n",
    "load_dotenv()\n",
    "\n",
    "# Function to insert data into PostgreSQL\n",
    "def insert_data_to_db(df):\n",
    "    try:\n",
    "        connection = psycopg2.connect(\n",
    "            dbname=os.getenv(\"DB_NAME\"),\n",
    "            user=os.getenv(\"DB_USER\"),\n",
    "            password=os.getenv(\"DB_PASSWORD\"),\n",
    "            host=os.getenv(\"DB_HOST\"),\n",
    "            port=os.getenv(\"DB_PORT\")\n",
    "        )\n",
    "        cursor = connection.cursor()\n",
    "\n",
    "        insert_query = \"\"\"\n",
    "        INSERT INTO patient_data (Timestamp, Patient_Name, Sex, Age, Weight, BloodGroup)\n",
    "        VALUES (%s, %s, %s, %s, %s, %s)\n",
    "        \"\"\"\n",
    "        for _, row in df.iterrows():\n",
    "            cursor.execute(insert_query, (row['Timestamp'], row['Patient Name'], row['Sex'], row['Age'], row['Weight'], row['BloodGroup']))\n",
    "\n",
    "        connection.commit()\n",
    "    except Exception as e:\n",
    "        print(f\"Error inserting data: {e}\")\n",
    "    finally:\n",
    "        cursor.close()\n",
    "        connection.close()\n",
    "\n",
    "# Insert synthetic data into PostgreSQL\n",
    "insert_data_to_db(synthetic_data)\n"
   ]
  },
  {
   "cell_type": "markdown",
   "metadata": {},
   "source": [
    "Integration of OpenAI Module\n",
    "interface to interact with the PostgreSQL database using OpenAI. The user will be able to ask questions in plain English, and we will process the queries accordingly."
   ]
  },
  {
   "cell_type": "code",
   "execution_count": null,
   "metadata": {},
   "outputs": [],
   "source": [
    "import openai\n",
    "\n",
    "# Configure OpenAI\n",
    "openai.api_key = os.getenv(\"OPENAI_API_KEY\")\n",
    "\n",
    "def fetch_data_from_openai(prompt):\n",
    "    response = openai.ChatCompletion.create(\n",
    "        model=\"gpt-3.5-turbo\",\n",
    "        messages=[{\"role\": \"user\", \"content\": prompt}],\n",
    "        max_tokens=150\n",
    "    )\n",
    "    return response.choices[0].message['content']\n",
    "\n",
    "# Function to query the database based on OpenAI output\n",
    "def query_database(query):\n",
    "    try:\n",
    "        connection = psycopg2.connect(\n",
    "            dbname=os.getenv(\"DB_NAME\"),\n",
    "            user=os.getenv(\"DB_USER\"),\n",
    "            password=os.getenv(\"DB_PASSWORD\"),\n",
    "            host=os.getenv(\"DB_HOST\"),\n",
    "            port=os.getenv(\"DB_PORT\")\n",
    "        )\n",
    "        cursor = connection.cursor()\n",
    "        cursor.execute(query)\n",
    "        result = cursor.fetchall()\n",
    "        return result\n",
    "    except Exception as e:\n",
    "        print(f\"Error querying database: {e}\")\n",
    "    finally:\n",
    "        cursor.close()\n",
    "        connection.close()\n",
    "\n",
    "# Function to process user queries\n",
    "def process_query(user_query):\n",
    "    prompt = f\"Translate the following question to SQL: {user_query}\"\n",
    "    sql_query = fetch_data_from_openai(prompt)\n",
    "    print(\"Generated SQL Query:\", sql_query)\n",
    "    result = query_database(sql_query)\n",
    "    return result\n",
    "\n",
    "# Example of interacting with the user\n",
    "def main():\n",
    "    user_query = input(\"Ask a question about patient data: \")\n",
    "    result = process_query(user_query)\n",
    "    print(\"Query Result:\", result)\n",
    "\n",
    "if __name__ == \"__main__\":\n",
    "    main()\n"
   ]
  }
 ],
 "metadata": {
  "language_info": {
   "name": "python"
  }
 },
 "nbformat": 4,
 "nbformat_minor": 2
}
