{
 "cells": [
  {
   "cell_type": "markdown",
   "metadata": {},
   "source": [
    "Generate synthetic Time-Series Data "
   ]
  },
  {
   "cell_type": "code",
   "execution_count": null,
   "metadata": {},
   "outputs": [],
   "source": [
    "import pandas as pd\n",
    "import numpy as np\n",
    "from datetime import datetime, timedelta\n",
    "\n",
    "# Function to generate synthetic dataset\n",
    "def generate_synthetic_data(start_date, end_date):\n",
    "    # Generate all dates between start_date and end_date\n",
    "    all_dates = pd.date_range(start_date, end_date, freq='B')  # 'B' for business days\n",
    "    public_holidays = [\n",
    "        datetime(2023, 1, 1),  # New Year's Day\n",
    "        datetime(2023, 7, 4),  # Independence Day\n",
    "        datetime(2023, 12, 25),  # Christmas\n",
    "    ]\n",
    "    valid_dates = [date for date in all_dates if date not in public_holidays]\n",
    "\n",
    "    # Generate random patient data\n",
    "    np.random.seed(42)  # For reproducibility\n",
    "    data = {\n",
    "        'Timestamp': valid_dates,\n",
    "        'Patient Name': [f'Patient_{i}' for i in range(len(valid_dates))],\n",
    "        'Sex': np.random.choice(['Male', 'Female'], size=len(valid_dates)),\n",
    "        'Age': np.random.randint(1, 90, size=len(valid_dates)),\n",
    "        'Weight': np.random.randint(50, 100, size=len(valid_dates)),  # Weight in kg\n",
    "        'BloodGroup': np.random.choice(['A+', 'A-', 'B+', 'B-', 'O+', 'O-', 'AB+', 'AB-'], size=len(valid_dates))\n",
    "    }\n",
    "\n",
    "    return pd.DataFrame(data)\n",
    "\n",
    "# Generate data for the year 2023\n",
    "synthetic_data = generate_synthetic_data('2023-01-01', '2023-12-31')\n",
    "print(synthetic_data.head())\n"
   ]
  }
 ],
 "metadata": {
  "kernelspec": {
   "display_name": "Python 3",
   "language": "python",
   "name": "python3"
  },
  "language_info": {
   "name": "python",
   "version": "3.11.9"
  }
 },
 "nbformat": 4,
 "nbformat_minor": 2
}
